{
  "nbformat": 4,
  "nbformat_minor": 0,
  "metadata": {
    "colab": {
      "provenance": [],
      "gpuType": "T4",
      "authorship_tag": "ABX9TyNI+PFivwX7TF+xCwESbCVc"
    },
    "kernelspec": {
      "name": "python3",
      "display_name": "Python 3"
    },
    "language_info": {
      "name": "python"
    },
    "accelerator": "GPU"
  },
  "cells": [
    {
      "cell_type": "code",
      "execution_count": null,
      "metadata": {
        "id": "0GPcqtGC9SJF"
      },
      "outputs": [],
      "source": [
        "import nltk"
      ]
    },
    {
      "cell_type": "code",
      "source": [
        "nltk.download('punkt')"
      ],
      "metadata": {
        "colab": {
          "base_uri": "https://localhost:8080/"
        },
        "id": "qMBewUY19klY",
        "outputId": "a7f3939a-57fb-459b-cb55-efa282199a1c"
      },
      "execution_count": null,
      "outputs": [
        {
          "output_type": "stream",
          "name": "stderr",
          "text": [
            "[nltk_data] Downloading package punkt to /root/nltk_data...\n",
            "[nltk_data]   Package punkt is already up-to-date!\n"
          ]
        },
        {
          "output_type": "execute_result",
          "data": {
            "text/plain": [
              "True"
            ]
          },
          "metadata": {},
          "execution_count": 4
        }
      ]
    },
    {
      "cell_type": "code",
      "source": [
        "paragraph=\"\"\"To implement a CNN-based image classifier using pyTorch, the process starts by loading and preprocessing the image and so on\"\"\""
      ],
      "metadata": {
        "id": "_kLCWzfr9r_P"
      },
      "execution_count": null,
      "outputs": []
    },
    {
      "cell_type": "code",
      "source": [
        "print(paragraph)"
      ],
      "metadata": {
        "colab": {
          "base_uri": "https://localhost:8080/"
        },
        "id": "hhqSVdkz-fl5",
        "outputId": "d7ee113b-2f6b-4209-e940-3a7b4011a92b"
      },
      "execution_count": null,
      "outputs": [
        {
          "output_type": "stream",
          "name": "stdout",
          "text": [
            "To implement a CNN-based image classifier using pyTorch, the process starts by loading and preprocessing the image and so on\n"
          ]
        }
      ]
    },
    {
      "cell_type": "code",
      "source": [
        "sentence=nltk.sent_tokenize(paragraph)\n",
        "words = nltk.word_tokenize(paragraph)"
      ],
      "metadata": {
        "id": "sH6ls10j-tAZ"
      },
      "execution_count": null,
      "outputs": []
    },
    {
      "cell_type": "code",
      "source": [
        "sentence"
      ],
      "metadata": {
        "colab": {
          "base_uri": "https://localhost:8080/"
        },
        "id": "igJJmlvkDudd",
        "outputId": "b07cd39d-70f8-44ad-ff37-ee45c5e05be0"
      },
      "execution_count": null,
      "outputs": [
        {
          "output_type": "execute_result",
          "data": {
            "text/plain": [
              "['To implement a CNN-based image classifier using pyTorch, the process starts by loading and preprocessing the image and so on']"
            ]
          },
          "metadata": {},
          "execution_count": 8
        }
      ]
    },
    {
      "cell_type": "code",
      "source": [
        "words"
      ],
      "metadata": {
        "colab": {
          "base_uri": "https://localhost:8080/"
        },
        "id": "cfKp-8d6_CYQ",
        "outputId": "c0dc0588-8b02-47cc-d5a6-2d6994414dce"
      },
      "execution_count": null,
      "outputs": [
        {
          "output_type": "execute_result",
          "data": {
            "text/plain": [
              "['To',\n",
              " 'implement',\n",
              " 'a',\n",
              " 'CNN-based',\n",
              " 'image',\n",
              " 'classifier',\n",
              " 'using',\n",
              " 'pyTorch',\n",
              " ',',\n",
              " 'the',\n",
              " 'process',\n",
              " 'starts',\n",
              " 'by',\n",
              " 'loading',\n",
              " 'and',\n",
              " 'preprocessing',\n",
              " 'the',\n",
              " 'image',\n",
              " 'and',\n",
              " 'so',\n",
              " 'on']"
            ]
          },
          "metadata": {},
          "execution_count": 9
        }
      ]
    },
    {
      "cell_type": "code",
      "source": [
        "from nltk.stem import PorterStemmer\n",
        "from nltk.corpus import stopwords\n",
        "nltk.download('stopwords')"
      ],
      "metadata": {
        "colab": {
          "base_uri": "https://localhost:8080/"
        },
        "id": "I0YFhn8P_E0Y",
        "outputId": "d0080305-4db2-457a-8823-c6bf27643855"
      },
      "execution_count": null,
      "outputs": [
        {
          "output_type": "stream",
          "name": "stderr",
          "text": [
            "[nltk_data] Downloading package stopwords to /root/nltk_data...\n",
            "[nltk_data]   Unzipping corpora/stopwords.zip.\n"
          ]
        },
        {
          "output_type": "execute_result",
          "data": {
            "text/plain": [
              "True"
            ]
          },
          "metadata": {},
          "execution_count": 10
        }
      ]
    },
    {
      "cell_type": "code",
      "source": [
        "stemmer=PorterStemmer()"
      ],
      "metadata": {
        "id": "p--CLZ8A_pzJ"
      },
      "execution_count": null,
      "outputs": []
    },
    {
      "cell_type": "code",
      "source": [
        "# for i in range(len(sentence)):\n",
        "#     words = nltk.word_tokenize(sentence[i])\n",
        "#     words = [stemmer.stem(word) for word in words if word not in set(stopwords.words('english'))]\n",
        "\n",
        "for i in range(len(sentence)):\n",
        "      words=nltk.word_tokenize(sentence[i])\n",
        "      words=[stemmer.stem(word) for word in words if word not in set(stopwords.words('english'))]\n",
        "      sentence[i]=' '.join(words)"
      ],
      "metadata": {
        "id": "fpPOlbB5AKOv"
      },
      "execution_count": null,
      "outputs": []
    },
    {
      "cell_type": "code",
      "source": [
        "sentence"
      ],
      "metadata": {
        "colab": {
          "base_uri": "https://localhost:8080/"
        },
        "id": "MbdGDg-M_5ZA",
        "outputId": "705ff7aa-3e46-40da-f073-3fe9d4fc3b15"
      },
      "execution_count": null,
      "outputs": [
        {
          "output_type": "execute_result",
          "data": {
            "text/plain": [
              "['to implement cnn-base imag classifi use pytorch , process start load preprocess imag']"
            ]
          },
          "metadata": {},
          "execution_count": 17
        }
      ]
    },
    {
      "cell_type": "code",
      "source": [
        "words"
      ],
      "metadata": {
        "colab": {
          "base_uri": "https://localhost:8080/"
        },
        "id": "Rq67NX2BAjsZ",
        "outputId": "e6aa5c0f-2207-46ae-ffba-8df080f12987"
      },
      "execution_count": null,
      "outputs": [
        {
          "output_type": "execute_result",
          "data": {
            "text/plain": [
              "['implement',\n",
              " 'cnn-base',\n",
              " 'imag',\n",
              " 'classifi',\n",
              " 'use',\n",
              " 'pytorch',\n",
              " ',',\n",
              " 'process',\n",
              " 'start',\n",
              " 'load',\n",
              " 'preprocess',\n",
              " 'imag']"
            ]
          },
          "metadata": {},
          "execution_count": 18
        }
      ]
    },
    {
      "cell_type": "code",
      "source": [
        "import nltk\n",
        "from nltk.stem import WordNetLemmatizer\n",
        "nltk.download('wordnet')\n",
        "# nltk.download('punkt')"
      ],
      "metadata": {
        "colab": {
          "base_uri": "https://localhost:8080/"
        },
        "id": "duIIWBapArBx",
        "outputId": "2af62cf3-54e1-476f-f697-1fc6ee6e1f7b"
      },
      "execution_count": null,
      "outputs": [
        {
          "output_type": "stream",
          "name": "stderr",
          "text": [
            "[nltk_data] Downloading package wordnet to /root/nltk_data...\n"
          ]
        },
        {
          "output_type": "execute_result",
          "data": {
            "text/plain": [
              "True"
            ]
          },
          "metadata": {},
          "execution_count": 19
        }
      ]
    },
    {
      "cell_type": "code",
      "source": [
        "paragraph=\"\"\"Bose Corporation is a renowned American company known for its cutting-edge audio equipment,including high-quality interiors\"\"\""
      ],
      "metadata": {
        "id": "kfTtLJM4BGdZ"
      },
      "execution_count": null,
      "outputs": []
    },
    {
      "cell_type": "code",
      "source": [
        "sentence=nltk.sent_tokenize(paragraph)\n",
        "lemmatizer=WordNetLemmatizer()"
      ],
      "metadata": {
        "id": "pMVLHtSsBY3R"
      },
      "execution_count": null,
      "outputs": []
    },
    {
      "cell_type": "code",
      "source": [
        "for i in range(len(sentence)):\n",
        "    words=nltk.word_tokenize(sentence[i])\n",
        "    words=[lemmatizer.lemmatize(word) for word in words if word not in set(stopwords.words('english'))]\n",
        "    sentence[i]=' '.join(words)"
      ],
      "metadata": {
        "id": "mgNyFbAvC6Vj"
      },
      "execution_count": null,
      "outputs": []
    },
    {
      "cell_type": "code",
      "source": [
        "sentence"
      ],
      "metadata": {
        "colab": {
          "base_uri": "https://localhost:8080/"
        },
        "id": "w9dv8sucDiPC",
        "outputId": "ccaf8af6-211a-4915-a629-0c0295c83953"
      },
      "execution_count": null,
      "outputs": [
        {
          "output_type": "execute_result",
          "data": {
            "text/plain": [
              "['Bose Corporation renowned American company known cutting-edge audio equipment , including high-quality interior']"
            ]
          },
          "metadata": {},
          "execution_count": 23
        }
      ]
    },
    {
      "cell_type": "code",
      "source": [
        "words"
      ],
      "metadata": {
        "colab": {
          "base_uri": "https://localhost:8080/"
        },
        "id": "Kc2pKEeGDpsS",
        "outputId": "09cbde51-d1b5-4d34-ca6a-6d1f333fa34d"
      },
      "execution_count": null,
      "outputs": [
        {
          "output_type": "execute_result",
          "data": {
            "text/plain": [
              "['Bose',\n",
              " 'Corporation',\n",
              " 'renowned',\n",
              " 'American',\n",
              " 'company',\n",
              " 'known',\n",
              " 'cutting-edge',\n",
              " 'audio',\n",
              " 'equipment',\n",
              " ',',\n",
              " 'including',\n",
              " 'high-quality',\n",
              " 'interior']"
            ]
          },
          "metadata": {},
          "execution_count": 24
        }
      ]
    },
    {
      "cell_type": "code",
      "source": [
        "import nltk\n",
        "from nltk.stem import WordNetLemmatizer\n",
        "from nltk.corpus import stopwords"
      ],
      "metadata": {
        "id": "XwNoXxo4HBNA"
      },
      "execution_count": null,
      "outputs": []
    },
    {
      "cell_type": "code",
      "source": [
        "paragraph = \"\"\"A.P.J. Abdul Kalam (born October 22, 1931) is an Indian scientist and politician who served as the 11th President of India from 2002 to 2007.\"\"\""
      ],
      "metadata": {
        "id": "zNgpXBlrHEii"
      },
      "execution_count": null,
      "outputs": []
    },
    {
      "cell_type": "code",
      "source": [
        "sentence=nltk.sent_tokenize(paragraph)\n",
        "Lemmatizer= WordNetLemmatizer()"
      ],
      "metadata": {
        "id": "CI9shWIlHNzr"
      },
      "execution_count": null,
      "outputs": []
    },
    {
      "cell_type": "code",
      "source": [
        "for i in range (len(sentence)):\n",
        "  words=nltk.word_tokenize(sentence[i])\n",
        "  words=[Lemmatizer.lemmatize(word) for word in words if word not in set(stopwords.words('english'))]\n",
        "  sentence[i]=' '.join(words)"
      ],
      "metadata": {
        "id": "TKcNymjCHTLd"
      },
      "execution_count": null,
      "outputs": []
    },
    {
      "cell_type": "code",
      "source": [
        "sentence"
      ],
      "metadata": {
        "colab": {
          "base_uri": "https://localhost:8080/"
        },
        "id": "RktJeVEEHZVd",
        "outputId": "856593f6-cb26-499a-d347-017ba208c97c"
      },
      "execution_count": null,
      "outputs": [
        {
          "output_type": "execute_result",
          "data": {
            "text/plain": [
              "['A.P.J .',\n",
              " 'Abdul Kalam ( born October 22 , 1931 ) Indian scientist politician served 11th President India 2002 2007 .']"
            ]
          },
          "metadata": {},
          "execution_count": 30
        }
      ]
    },
    {
      "cell_type": "code",
      "source": [
        "words"
      ],
      "metadata": {
        "colab": {
          "base_uri": "https://localhost:8080/"
        },
        "id": "DNgaOKzbHfAV",
        "outputId": "dbabc2ab-0b19-4702-c819-f8b4be806dd3"
      },
      "execution_count": null,
      "outputs": [
        {
          "output_type": "execute_result",
          "data": {
            "text/plain": [
              "['Abdul',\n",
              " 'Kalam',\n",
              " '(',\n",
              " 'born',\n",
              " 'October',\n",
              " '22',\n",
              " ',',\n",
              " '1931',\n",
              " ')',\n",
              " 'Indian',\n",
              " 'scientist',\n",
              " 'politician',\n",
              " 'served',\n",
              " '11th',\n",
              " 'President',\n",
              " 'India',\n",
              " '2002',\n",
              " '2007',\n",
              " '.']"
            ]
          },
          "metadata": {},
          "execution_count": 33
        }
      ]
    }
  ]
}