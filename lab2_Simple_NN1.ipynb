{
  "nbformat": 4,
  "nbformat_minor": 0,
  "metadata": {
    "colab": {
      "provenance": [],
      "authorship_tag": "ABX9TyOwc1Rcye/z4opyRbP5hTBH"
    },
    "kernelspec": {
      "name": "python3",
      "display_name": "Python 3"
    },
    "language_info": {
      "name": "python"
    }
  },
  "cells": [
    {
      "cell_type": "code",
      "execution_count": null,
      "metadata": {
        "colab": {
          "base_uri": "https://localhost:8080/"
        },
        "id": "OWG-VG0CjU5_",
        "outputId": "df6ea9a5-9838-4e7c-afa9-199e1c7445f8"
      },
      "outputs": [
        {
          "output_type": "stream",
          "name": "stdout",
          "text": [
            "The inputs are: \n",
            " [[0 0 1]\n",
            " [1 1 1]\n",
            " [1 0 1]\n",
            " [0 1 1]]\n",
            "The outputs are: \n",
            " [[0]\n",
            " [1]\n",
            " [1]\n",
            " [0]]\n",
            "The weights are: \n",
            " [[-0.16595599]\n",
            " [ 0.44064899]\n",
            " [-0.99977125]]\n",
            "Output after training :  [[0.2689864 ]\n",
            " [0.3262757 ]\n",
            " [0.23762817]\n",
            " [0.36375058]]\n",
            "Output after training :  [[0.2689864 ]\n",
            " [0.3262757 ]\n",
            " [0.23762817]\n",
            " [0.36375058]]\n",
            "Output after training :  [[0.2689864 ]\n",
            " [0.3262757 ]\n",
            " [0.23762817]\n",
            " [0.36375058]]\n",
            "Output after training :  [[0.2689864 ]\n",
            " [0.3262757 ]\n",
            " [0.23762817]\n",
            " [0.36375058]]\n",
            "Output after training :  [[0.2689864 ]\n",
            " [0.3262757 ]\n",
            " [0.23762817]\n",
            " [0.36375058]]\n",
            "Output after training :  [[0.2689864 ]\n",
            " [0.3262757 ]\n",
            " [0.23762817]\n",
            " [0.36375058]]\n",
            "Output after training :  [[0.2689864 ]\n",
            " [0.3262757 ]\n",
            " [0.23762817]\n",
            " [0.36375058]]\n",
            "Output after training :  [[0.2689864 ]\n",
            " [0.3262757 ]\n",
            " [0.23762817]\n",
            " [0.36375058]]\n",
            "Output after training :  [[0.2689864 ]\n",
            " [0.3262757 ]\n",
            " [0.23762817]\n",
            " [0.36375058]]\n",
            "Output after training :  [[0.2689864 ]\n",
            " [0.3262757 ]\n",
            " [0.23762817]\n",
            " [0.36375058]]\n",
            "Error after training:  [[-0.2689864 ]\n",
            " [ 0.6737243 ]\n",
            " [ 0.76237183]\n",
            " [-0.36375058]]\n"
          ]
        }
      ],
      "source": [
        " import numpy as np\n",
        "\n",
        "def sigmoid(x):\n",
        "  return 1/(1+np.exp(-x))\n",
        "\n",
        "def sigmoid_derivative(x):\n",
        "  return x*(1-x)\n",
        "\n",
        "training_inputs = np.array([[0,0,1],[1,1,1],[1,0,1],[0,1,1]])\n",
        "print(\"The inputs are: \\n\" ,training_inputs)\n",
        "\n",
        "training_outputs = np.array([[0,1,1,0]]).T\n",
        "print(\"The outputs are: \\n\" ,training_outputs)\n",
        "\n",
        "np.random.seed(1)\n",
        "\n",
        "synaptic_weights = 2*np.random.random((3,1))-1\n",
        "print(\"The weights are: \\n\" ,synaptic_weights)\n",
        "\n",
        "for i in range(10):\n",
        "  input_layer = training_inputs\n",
        "  outputs = sigmoid(np.dot(input_layer, synaptic_weights))\n",
        "  print(\"Output after training : \", outputs)\n",
        "\n",
        "error = training_outputs - outputs\n",
        "print(\"Error after training: \", error)\n"
      ]
    },
    {
      "cell_type": "code",
      "source": [],
      "metadata": {
        "id": "zjDhLfkOQf4g"
      },
      "execution_count": null,
      "outputs": []
    }
  ]
}
