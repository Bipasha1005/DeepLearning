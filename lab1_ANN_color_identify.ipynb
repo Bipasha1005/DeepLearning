{
  "nbformat": 4,
  "nbformat_minor": 0,
  "metadata": {
    "colab": {
      "provenance": [],
      "authorship_tag": "ABX9TyMTsKNflpxrsdXwL3ctW+JM"
    },
    "kernelspec": {
      "name": "python3",
      "display_name": "Python 3"
    },
    "language_info": {
      "name": "python"
    }
  },
  "cells": [
    {
      "cell_type": "code",
      "execution_count": null,
      "metadata": {
        "colab": {
          "base_uri": "https://localhost:8080/"
        },
        "id": "Rt2Pl7QpicLR",
        "outputId": "5c792ecd-5858-47b0-ff93-f34c3f639625"
      },
      "outputs": [
        {
          "output_type": "stream",
          "name": "stdout",
          "text": [
            "0.19781611144141834\n",
            "0.7310585786300049\n",
            "0.8581489350995123\n",
            "0.47502081252106\n",
            "0.8956687768809987\n",
            "0.47502081252106\n",
            "0.9758729785823308\n",
            "0.3775406687981454\n",
            "0.11405238127979088\n"
          ]
        }
      ],
      "source": [
        "import numpy as np\n",
        "def nn(m1, m2, w1, w2, b):\n",
        "  z = m1*w1 + m2*w2 + b\n",
        "  return sigmoid(z)\n",
        "\n",
        "def sigmoid(x):\n",
        "  return 1/(1+np.exp(-x))\n",
        "\n",
        "print (nn(3,1.5,-0.7,-0.2,1))\n",
        "print (nn(2,1,-0.3,0.6,1))\n",
        "print (nn(4,1.5,0.2,0,1))\n",
        "print (nn(3,1,-0.3,-0.2,1))\n",
        "print (nn(3.5,0.5,0.3,0.2,1))\n",
        "print (nn(2,0.5,-0.7,0.6,1))\n",
        "print (nn(5.5,1,0.6,-0.6,1))\n",
        "print (nn(1,1,-0.8,-0.7,1))\n",
        "print (nn(4.5,1,-0.5,-0.8,1))"
      ]
    }
  ]
}